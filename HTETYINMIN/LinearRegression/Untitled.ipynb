{
 "cells": [
  {
   "cell_type": "code",
   "execution_count": 1,
   "metadata": {},
   "outputs": [],
   "source": [
    "import pandas as pd"
   ]
  },
  {
   "cell_type": "code",
   "execution_count": 2,
   "metadata": {},
   "outputs": [],
   "source": [
    "import numpy as np"
   ]
  },
  {
   "cell_type": "code",
   "execution_count": 3,
   "metadata": {},
   "outputs": [],
   "source": [
    "import matplotlib.pyplot as plt"
   ]
  },
  {
   "cell_type": "code",
   "execution_count": 4,
   "metadata": {},
   "outputs": [],
   "source": [
    "from sklearn.model_selection import train_test_split"
   ]
  },
  {
   "cell_type": "code",
   "execution_count": 5,
   "metadata": {},
   "outputs": [],
   "source": [
    "df = pd.read_csv('weight-height.csv')"
   ]
  },
  {
   "cell_type": "code",
   "execution_count": 6,
   "metadata": {},
   "outputs": [
    {
     "data": {
      "text/html": [
       "<div>\n",
       "<style scoped>\n",
       "    .dataframe tbody tr th:only-of-type {\n",
       "        vertical-align: middle;\n",
       "    }\n",
       "\n",
       "    .dataframe tbody tr th {\n",
       "        vertical-align: top;\n",
       "    }\n",
       "\n",
       "    .dataframe thead th {\n",
       "        text-align: right;\n",
       "    }\n",
       "</style>\n",
       "<table border=\"1\" class=\"dataframe\">\n",
       "  <thead>\n",
       "    <tr style=\"text-align: right;\">\n",
       "      <th></th>\n",
       "      <th>Gender</th>\n",
       "      <th>Height</th>\n",
       "      <th>Weight</th>\n",
       "    </tr>\n",
       "  </thead>\n",
       "  <tbody>\n",
       "    <tr>\n",
       "      <td>0</td>\n",
       "      <td>Male</td>\n",
       "      <td>73.847017</td>\n",
       "      <td>241.893563</td>\n",
       "    </tr>\n",
       "    <tr>\n",
       "      <td>1</td>\n",
       "      <td>Male</td>\n",
       "      <td>68.781904</td>\n",
       "      <td>162.310473</td>\n",
       "    </tr>\n",
       "    <tr>\n",
       "      <td>2</td>\n",
       "      <td>Male</td>\n",
       "      <td>74.110105</td>\n",
       "      <td>212.740856</td>\n",
       "    </tr>\n",
       "    <tr>\n",
       "      <td>3</td>\n",
       "      <td>Male</td>\n",
       "      <td>71.730978</td>\n",
       "      <td>220.042470</td>\n",
       "    </tr>\n",
       "    <tr>\n",
       "      <td>4</td>\n",
       "      <td>Male</td>\n",
       "      <td>69.881796</td>\n",
       "      <td>206.349801</td>\n",
       "    </tr>\n",
       "  </tbody>\n",
       "</table>\n",
       "</div>"
      ],
      "text/plain": [
       "  Gender     Height      Weight\n",
       "0   Male  73.847017  241.893563\n",
       "1   Male  68.781904  162.310473\n",
       "2   Male  74.110105  212.740856\n",
       "3   Male  71.730978  220.042470\n",
       "4   Male  69.881796  206.349801"
      ]
     },
     "execution_count": 6,
     "metadata": {},
     "output_type": "execute_result"
    }
   ],
   "source": [
    "df.head()"
   ]
  },
  {
   "cell_type": "code",
   "execution_count": 7,
   "metadata": {},
   "outputs": [
    {
     "data": {
      "text/html": [
       "<div>\n",
       "<style scoped>\n",
       "    .dataframe tbody tr th:only-of-type {\n",
       "        vertical-align: middle;\n",
       "    }\n",
       "\n",
       "    .dataframe tbody tr th {\n",
       "        vertical-align: top;\n",
       "    }\n",
       "\n",
       "    .dataframe thead th {\n",
       "        text-align: right;\n",
       "    }\n",
       "</style>\n",
       "<table border=\"1\" class=\"dataframe\">\n",
       "  <thead>\n",
       "    <tr style=\"text-align: right;\">\n",
       "      <th></th>\n",
       "      <th>Height</th>\n",
       "      <th>Weight</th>\n",
       "    </tr>\n",
       "  </thead>\n",
       "  <tbody>\n",
       "    <tr>\n",
       "      <td>count</td>\n",
       "      <td>10000.000000</td>\n",
       "      <td>10000.000000</td>\n",
       "    </tr>\n",
       "    <tr>\n",
       "      <td>mean</td>\n",
       "      <td>66.367560</td>\n",
       "      <td>161.440357</td>\n",
       "    </tr>\n",
       "    <tr>\n",
       "      <td>std</td>\n",
       "      <td>3.847528</td>\n",
       "      <td>32.108439</td>\n",
       "    </tr>\n",
       "    <tr>\n",
       "      <td>min</td>\n",
       "      <td>54.263133</td>\n",
       "      <td>64.700127</td>\n",
       "    </tr>\n",
       "    <tr>\n",
       "      <td>25%</td>\n",
       "      <td>63.505620</td>\n",
       "      <td>135.818051</td>\n",
       "    </tr>\n",
       "    <tr>\n",
       "      <td>50%</td>\n",
       "      <td>66.318070</td>\n",
       "      <td>161.212928</td>\n",
       "    </tr>\n",
       "    <tr>\n",
       "      <td>75%</td>\n",
       "      <td>69.174262</td>\n",
       "      <td>187.169525</td>\n",
       "    </tr>\n",
       "    <tr>\n",
       "      <td>max</td>\n",
       "      <td>78.998742</td>\n",
       "      <td>269.989699</td>\n",
       "    </tr>\n",
       "  </tbody>\n",
       "</table>\n",
       "</div>"
      ],
      "text/plain": [
       "             Height        Weight\n",
       "count  10000.000000  10000.000000\n",
       "mean      66.367560    161.440357\n",
       "std        3.847528     32.108439\n",
       "min       54.263133     64.700127\n",
       "25%       63.505620    135.818051\n",
       "50%       66.318070    161.212928\n",
       "75%       69.174262    187.169525\n",
       "max       78.998742    269.989699"
      ]
     },
     "execution_count": 7,
     "metadata": {},
     "output_type": "execute_result"
    }
   ],
   "source": [
    "df.describe()"
   ]
  },
  {
   "cell_type": "code",
   "execution_count": 8,
   "metadata": {},
   "outputs": [
    {
     "data": {
      "text/plain": [
       "(10000, 3)"
      ]
     },
     "execution_count": 8,
     "metadata": {},
     "output_type": "execute_result"
    }
   ],
   "source": [
    "df.shape"
   ]
  },
  {
   "cell_type": "code",
   "execution_count": 9,
   "metadata": {},
   "outputs": [
    {
     "name": "stdout",
     "output_type": "stream",
     "text": [
      "<class 'pandas.core.frame.DataFrame'>\n",
      "RangeIndex: 10000 entries, 0 to 9999\n",
      "Data columns (total 3 columns):\n",
      "Gender    10000 non-null object\n",
      "Height    10000 non-null float64\n",
      "Weight    10000 non-null float64\n",
      "dtypes: float64(2), object(1)\n",
      "memory usage: 234.5+ KB\n"
     ]
    }
   ],
   "source": [
    "df.info()"
   ]
  },
  {
   "cell_type": "code",
   "execution_count": 10,
   "metadata": {},
   "outputs": [],
   "source": [
    "X = df[['Height']].values"
   ]
  },
  {
   "cell_type": "code",
   "execution_count": 11,
   "metadata": {},
   "outputs": [],
   "source": [
    "y = df[['Weight']].values"
   ]
  },
  {
   "cell_type": "code",
   "execution_count": 12,
   "metadata": {},
   "outputs": [],
   "source": [
    "X_train, X_test, y_train, y_test = train_test_split(X, y, test_size=0.3, random_state=45)"
   ]
  },
  {
   "cell_type": "code",
   "execution_count": 13,
   "metadata": {},
   "outputs": [
    {
     "data": {
      "text/plain": [
       "(10000, 1)"
      ]
     },
     "execution_count": 13,
     "metadata": {},
     "output_type": "execute_result"
    }
   ],
   "source": [
    "X.shape"
   ]
  },
  {
   "cell_type": "code",
   "execution_count": 14,
   "metadata": {},
   "outputs": [
    {
     "data": {
      "text/plain": [
       "(10000, 1)"
      ]
     },
     "execution_count": 14,
     "metadata": {},
     "output_type": "execute_result"
    }
   ],
   "source": [
    "y.shape"
   ]
  },
  {
   "cell_type": "markdown",
   "metadata": {},
   "source": [
    "### Build Prediction Model"
   ]
  },
  {
   "cell_type": "code",
   "execution_count": 15,
   "metadata": {},
   "outputs": [
    {
     "name": "stderr",
     "output_type": "stream",
     "text": [
      "Using TensorFlow backend.\n"
     ]
    }
   ],
   "source": [
    "import keras"
   ]
  },
  {
   "cell_type": "code",
   "execution_count": 16,
   "metadata": {},
   "outputs": [],
   "source": [
    "model = keras.Sequential()"
   ]
  },
  {
   "cell_type": "code",
   "execution_count": 17,
   "metadata": {},
   "outputs": [],
   "source": [
    "model.add(keras.layers.Dense(1, input_shape=(1,)))"
   ]
  },
  {
   "cell_type": "code",
   "execution_count": 18,
   "metadata": {},
   "outputs": [],
   "source": [
    "model.compile(keras.optimizers.Adam(lr=1), 'mean_squared_error')"
   ]
  },
  {
   "cell_type": "code",
   "execution_count": 19,
   "metadata": {},
   "outputs": [
    {
     "name": "stdout",
     "output_type": "stream",
     "text": [
      "Epoch 1/100\n",
      "7000/7000 [==============================] - 0s 12us/step - loss: 2070.4305\n",
      "Epoch 2/100\n",
      "7000/7000 [==============================] - 0s 5us/step - loss: 572.5471\n",
      "Epoch 3/100\n",
      "7000/7000 [==============================] - 0s 5us/step - loss: 566.8138\n",
      "Epoch 4/100\n",
      "7000/7000 [==============================] - 0s 5us/step - loss: 556.3451\n",
      "Epoch 5/100\n",
      "7000/7000 [==============================] - 0s 5us/step - loss: 550.0359\n",
      "Epoch 6/100\n",
      "7000/7000 [==============================] - 0s 5us/step - loss: 534.8676\n",
      "Epoch 7/100\n",
      "7000/7000 [==============================] - 0s 6us/step - loss: 525.5333\n",
      "Epoch 8/100\n",
      "7000/7000 [==============================] - 0s 5us/step - loss: 507.6945\n",
      "Epoch 9/100\n",
      "7000/7000 [==============================] - 0s 5us/step - loss: 507.2835\n",
      "Epoch 10/100\n",
      "7000/7000 [==============================] - 0s 5us/step - loss: 488.7600\n",
      "Epoch 11/100\n",
      "7000/7000 [==============================] - 0s 5us/step - loss: 479.2147\n",
      "Epoch 12/100\n",
      "7000/7000 [==============================] - 0s 5us/step - loss: 467.8245\n",
      "Epoch 13/100\n",
      "7000/7000 [==============================] - 0s 5us/step - loss: 460.7243\n",
      "Epoch 14/100\n",
      "7000/7000 [==============================] - 0s 5us/step - loss: 439.9274\n",
      "Epoch 15/100\n",
      "7000/7000 [==============================] - 0s 5us/step - loss: 423.0962\n",
      "Epoch 16/100\n",
      "7000/7000 [==============================] - 0s 5us/step - loss: 408.9515\n",
      "Epoch 17/100\n",
      "7000/7000 [==============================] - 0s 5us/step - loss: 392.7400\n",
      "Epoch 18/100\n",
      "7000/7000 [==============================] - 0s 5us/step - loss: 398.5169\n",
      "Epoch 19/100\n",
      "7000/7000 [==============================] - 0s 5us/step - loss: 374.5400\n",
      "Epoch 20/100\n",
      "7000/7000 [==============================] - 0s 6us/step - loss: 371.5101\n",
      "Epoch 21/100\n",
      "7000/7000 [==============================] - 0s 5us/step - loss: 346.3127\n",
      "Epoch 22/100\n",
      "7000/7000 [==============================] - 0s 5us/step - loss: 353.7236\n",
      "Epoch 23/100\n",
      "7000/7000 [==============================] - 0s 5us/step - loss: 330.0886\n",
      "Epoch 24/100\n",
      "7000/7000 [==============================] - 0s 5us/step - loss: 312.2750\n",
      "Epoch 25/100\n",
      "7000/7000 [==============================] - 0s 5us/step - loss: 309.2241\n",
      "Epoch 26/100\n",
      "7000/7000 [==============================] - 0s 5us/step - loss: 323.0183\n",
      "Epoch 27/100\n",
      "7000/7000 [==============================] - 0s 5us/step - loss: 282.8852\n",
      "Epoch 28/100\n",
      "7000/7000 [==============================] - 0s 5us/step - loss: 272.7715\n",
      "Epoch 29/100\n",
      "7000/7000 [==============================] - 0s 5us/step - loss: 279.3065\n",
      "Epoch 30/100\n",
      "7000/7000 [==============================] - 0s 5us/step - loss: 280.0781\n",
      "Epoch 31/100\n",
      "7000/7000 [==============================] - 0s 5us/step - loss: 259.1973\n",
      "Epoch 32/100\n",
      "7000/7000 [==============================] - 0s 5us/step - loss: 259.6286\n",
      "Epoch 33/100\n",
      "7000/7000 [==============================] - 0s 5us/step - loss: 244.1348\n",
      "Epoch 34/100\n",
      "7000/7000 [==============================] - 0s 5us/step - loss: 247.9520\n",
      "Epoch 35/100\n",
      "7000/7000 [==============================] - 0s 5us/step - loss: 229.3707\n",
      "Epoch 36/100\n",
      "7000/7000 [==============================] - 0s 5us/step - loss: 223.8778\n",
      "Epoch 37/100\n",
      "7000/7000 [==============================] - 0s 5us/step - loss: 238.3106\n",
      "Epoch 38/100\n",
      "7000/7000 [==============================] - 0s 5us/step - loss: 215.2342\n",
      "Epoch 39/100\n",
      "7000/7000 [==============================] - 0s 5us/step - loss: 221.9369\n",
      "Epoch 40/100\n",
      "7000/7000 [==============================] - 0s 5us/step - loss: 204.4192\n",
      "Epoch 41/100\n",
      "7000/7000 [==============================] - 0s 5us/step - loss: 208.8090\n",
      "Epoch 42/100\n",
      "7000/7000 [==============================] - 0s 5us/step - loss: 198.0061\n",
      "Epoch 43/100\n",
      "7000/7000 [==============================] - 0s 6us/step - loss: 197.5948\n",
      "Epoch 44/100\n",
      "7000/7000 [==============================] - 0s 6us/step - loss: 199.0544\n",
      "Epoch 45/100\n",
      "7000/7000 [==============================] - 0s 6us/step - loss: 196.9451\n",
      "Epoch 46/100\n",
      "7000/7000 [==============================] - 0s 5us/step - loss: 194.3676\n",
      "Epoch 47/100\n",
      "7000/7000 [==============================] - 0s 5us/step - loss: 193.0829\n",
      "Epoch 48/100\n",
      "7000/7000 [==============================] - 0s 5us/step - loss: 188.9505\n",
      "Epoch 49/100\n",
      "7000/7000 [==============================] - 0s 5us/step - loss: 205.1294\n",
      "Epoch 50/100\n",
      "7000/7000 [==============================] - 0s 5us/step - loss: 188.6409\n",
      "Epoch 51/100\n",
      "7000/7000 [==============================] - 0s 5us/step - loss: 180.2461\n",
      "Epoch 52/100\n",
      "7000/7000 [==============================] - 0s 5us/step - loss: 183.8880\n",
      "Epoch 53/100\n",
      "7000/7000 [==============================] - 0s 6us/step - loss: 174.6582\n",
      "Epoch 54/100\n",
      "7000/7000 [==============================] - 0s 5us/step - loss: 170.7477\n",
      "Epoch 55/100\n",
      "7000/7000 [==============================] - 0s 5us/step - loss: 173.3925\n",
      "Epoch 56/100\n",
      "7000/7000 [==============================] - 0s 4us/step - loss: 177.8583\n",
      "Epoch 57/100\n",
      "7000/7000 [==============================] - 0s 4us/step - loss: 167.9658\n",
      "Epoch 58/100\n",
      "7000/7000 [==============================] - 0s 4us/step - loss: 181.8233\n",
      "Epoch 59/100\n",
      "7000/7000 [==============================] - 0s 5us/step - loss: 168.1630\n",
      "Epoch 60/100\n",
      "7000/7000 [==============================] - 0s 5us/step - loss: 167.0363\n",
      "Epoch 61/100\n",
      "7000/7000 [==============================] - 0s 5us/step - loss: 183.1564\n",
      "Epoch 62/100\n",
      "7000/7000 [==============================] - 0s 5us/step - loss: 195.3811\n",
      "Epoch 63/100\n",
      "7000/7000 [==============================] - 0s 5us/step - loss: 188.7250\n",
      "Epoch 64/100\n",
      "7000/7000 [==============================] - 0s 5us/step - loss: 189.8671\n",
      "Epoch 65/100\n",
      "7000/7000 [==============================] - 0s 5us/step - loss: 174.9757\n",
      "Epoch 66/100\n",
      "7000/7000 [==============================] - 0s 4us/step - loss: 166.1508\n",
      "Epoch 67/100\n",
      "7000/7000 [==============================] - 0s 5us/step - loss: 161.5849\n",
      "Epoch 68/100\n",
      "7000/7000 [==============================] - 0s 5us/step - loss: 167.8788\n",
      "Epoch 69/100\n",
      "7000/7000 [==============================] - 0s 5us/step - loss: 164.2518\n",
      "Epoch 70/100\n",
      "7000/7000 [==============================] - 0s 5us/step - loss: 164.1452\n",
      "Epoch 71/100\n",
      "7000/7000 [==============================] - 0s 5us/step - loss: 167.0020\n",
      "Epoch 72/100\n",
      "7000/7000 [==============================] - 0s 5us/step - loss: 162.7252\n",
      "Epoch 73/100\n",
      "7000/7000 [==============================] - 0s 5us/step - loss: 166.8855\n",
      "Epoch 74/100\n",
      "7000/7000 [==============================] - 0s 5us/step - loss: 177.0975\n",
      "Epoch 75/100\n",
      "7000/7000 [==============================] - 0s 5us/step - loss: 177.7674\n",
      "Epoch 76/100\n",
      "7000/7000 [==============================] - 0s 5us/step - loss: 172.2821\n",
      "Epoch 77/100\n",
      "7000/7000 [==============================] - 0s 5us/step - loss: 174.0580\n",
      "Epoch 78/100\n",
      "7000/7000 [==============================] - 0s 5us/step - loss: 182.9254\n",
      "Epoch 79/100\n",
      "7000/7000 [==============================] - 0s 5us/step - loss: 162.5227\n",
      "Epoch 80/100\n",
      "7000/7000 [==============================] - 0s 5us/step - loss: 169.2778\n",
      "Epoch 81/100\n",
      "7000/7000 [==============================] - 0s 5us/step - loss: 157.1703\n",
      "Epoch 82/100\n",
      "7000/7000 [==============================] - 0s 5us/step - loss: 176.0736\n",
      "Epoch 83/100\n",
      "7000/7000 [==============================] - 0s 5us/step - loss: 167.8000\n",
      "Epoch 84/100\n",
      "7000/7000 [==============================] - 0s 5us/step - loss: 172.2914\n",
      "Epoch 85/100\n",
      "7000/7000 [==============================] - 0s 5us/step - loss: 165.9899\n",
      "Epoch 86/100\n",
      "7000/7000 [==============================] - 0s 5us/step - loss: 158.6645\n",
      "Epoch 87/100\n",
      "7000/7000 [==============================] - 0s 5us/step - loss: 202.8123\n",
      "Epoch 88/100\n",
      "7000/7000 [==============================] - 0s 5us/step - loss: 185.6607\n",
      "Epoch 89/100\n",
      "7000/7000 [==============================] - 0s 4us/step - loss: 166.9231\n",
      "Epoch 90/100\n",
      "7000/7000 [==============================] - 0s 5us/step - loss: 170.7157\n",
      "Epoch 91/100\n",
      "7000/7000 [==============================] - 0s 5us/step - loss: 170.0555\n",
      "Epoch 92/100\n",
      "7000/7000 [==============================] - 0s 5us/step - loss: 197.6379\n",
      "Epoch 93/100\n",
      "7000/7000 [==============================] - 0s 5us/step - loss: 166.5830\n",
      "Epoch 94/100\n",
      "7000/7000 [==============================] - 0s 5us/step - loss: 178.0327\n",
      "Epoch 95/100\n"
     ]
    },
    {
     "name": "stdout",
     "output_type": "stream",
     "text": [
      "7000/7000 [==============================] - 0s 5us/step - loss: 170.9018\n",
      "Epoch 96/100\n",
      "7000/7000 [==============================] - 0s 5us/step - loss: 175.6160\n",
      "Epoch 97/100\n",
      "7000/7000 [==============================] - 0s 5us/step - loss: 170.6578\n",
      "Epoch 98/100\n",
      "7000/7000 [==============================] - 0s 5us/step - loss: 163.5804\n",
      "Epoch 99/100\n",
      "7000/7000 [==============================] - 0s 5us/step - loss: 160.1859\n",
      "Epoch 100/100\n",
      "7000/7000 [==============================] - 0s 5us/step - loss: 186.9839\n"
     ]
    },
    {
     "data": {
      "text/plain": [
       "<keras.callbacks.callbacks.History at 0x7f7487faf0d0>"
      ]
     },
     "execution_count": 19,
     "metadata": {},
     "output_type": "execute_result"
    }
   ],
   "source": [
    "model.fit(X_train, y_train, epochs = 100, batch_size=100)"
   ]
  },
  {
   "cell_type": "markdown",
   "metadata": {},
   "source": [
    "### Predict Test values"
   ]
  },
  {
   "cell_type": "code",
   "execution_count": 20,
   "metadata": {},
   "outputs": [],
   "source": [
    "pred_value = model.predict(X_test)"
   ]
  },
  {
   "cell_type": "code",
   "execution_count": 21,
   "metadata": {},
   "outputs": [
    {
     "name": "stdout",
     "output_type": "stream",
     "text": [
      "[[194.79434]\n",
      " [182.73276]\n",
      " [162.44934]\n",
      " ...\n",
      " [205.37234]\n",
      " [160.60074]\n",
      " [174.21841]]\n"
     ]
    }
   ],
   "source": [
    "print(pred_value)"
   ]
  },
  {
   "cell_type": "markdown",
   "metadata": {},
   "source": [
    "### Predict Specific Test Value"
   ]
  },
  {
   "cell_type": "code",
   "execution_count": 22,
   "metadata": {},
   "outputs": [],
   "source": [
    "test_height = [73.847017]\n",
    "pred_specific_value = model.predict(test_height)"
   ]
  },
  {
   "cell_type": "code",
   "execution_count": 23,
   "metadata": {},
   "outputs": [
    {
     "name": "stdout",
     "output_type": "stream",
     "text": [
      "[[220.85043]]\n"
     ]
    }
   ],
   "source": [
    "print(pred_specific_value)"
   ]
  },
  {
   "cell_type": "code",
   "execution_count": null,
   "metadata": {},
   "outputs": [],
   "source": []
  }
 ],
 "metadata": {
  "kernelspec": {
   "display_name": "Python 3",
   "language": "python",
   "name": "python3"
  },
  "language_info": {
   "codemirror_mode": {
    "name": "ipython",
    "version": 3
   },
   "file_extension": ".py",
   "mimetype": "text/x-python",
   "name": "python",
   "nbconvert_exporter": "python",
   "pygments_lexer": "ipython3",
   "version": "3.7.4"
  }
 },
 "nbformat": 4,
 "nbformat_minor": 2
}
